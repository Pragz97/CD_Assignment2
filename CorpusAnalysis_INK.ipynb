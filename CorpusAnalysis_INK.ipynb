{
 "cells": [
  {
   "cell_type": "markdown",
   "id": "7035a0b4-81b0-49f2-9884-02f325e34731",
   "metadata": {},
   "source": [
    "# Corpus Analysis on **Ice Nine Kills** Lyrics"
   ]
  },
  {
   "cell_type": "markdown",
   "id": "a473df69-2d7c-4937-bc07-690e4f3cc730",
   "metadata": {},
   "source": [
    "> Conducting Corpus Analysis on the lyrics of the singles off of Ice Nine Kills' two horror themed albums *The Silver Scream* and *The Silver Scream 2: Welcome to Horrorwood*. "
   ]
  },
  {
   "cell_type": "markdown",
   "id": "452e5ceb-3ff2-471c-9b16-3f5ef3005b4b",
   "metadata": {},
   "source": [
    "## Installing, Importing, and Processing"
   ]
  },
  {
   "cell_type": "code",
   "execution_count": 1,
   "id": "7cf08a81-caee-4b37-aab5-22771c21f6a7",
   "metadata": {},
   "outputs": [],
   "source": [
    "import spacy"
   ]
  },
  {
   "cell_type": "code",
   "execution_count": 2,
   "id": "292aa015-2c77-4d5d-a39a-0544ba0ceb2f",
   "metadata": {},
   "outputs": [
    {
     "name": "stdout",
     "output_type": "stream",
     "text": [
      "Collecting en-core-web-sm==3.7.1\n",
      "  Downloading https://github.com/explosion/spacy-models/releases/download/en_core_web_sm-3.7.1/en_core_web_sm-3.7.1-py3-none-any.whl (12.8 MB)\n",
      "     ---------------------------------------- 0.0/12.8 MB ? eta -:--:--\n",
      "     -------- ------------------------------- 2.6/12.8 MB 13.7 MB/s eta 0:00:01\n",
      "     ------------------ --------------------- 6.0/12.8 MB 14.2 MB/s eta 0:00:01\n",
      "     --------------------------- ------------ 8.7/12.8 MB 14.1 MB/s eta 0:00:01\n",
      "     ----------------------------------- --- 11.5/12.8 MB 13.9 MB/s eta 0:00:01\n",
      "     --------------------------------------  12.6/12.8 MB 13.6 MB/s eta 0:00:01\n",
      "     --------------------------------------- 12.8/12.8 MB 10.8 MB/s eta 0:00:00\n",
      "Requirement already satisfied: spacy<3.8.0,>=3.7.2 in c:\\users\\praga\\anaconda3\\envs\\newenv\\lib\\site-packages (from en-core-web-sm==3.7.1) (3.7.2)\n",
      "Requirement already satisfied: spacy-legacy<3.1.0,>=3.0.11 in c:\\users\\praga\\anaconda3\\envs\\newenv\\lib\\site-packages (from spacy<3.8.0,>=3.7.2->en-core-web-sm==3.7.1) (3.0.12)\n",
      "Requirement already satisfied: spacy-loggers<2.0.0,>=1.0.0 in c:\\users\\praga\\anaconda3\\envs\\newenv\\lib\\site-packages (from spacy<3.8.0,>=3.7.2->en-core-web-sm==3.7.1) (1.0.4)\n",
      "Requirement already satisfied: murmurhash<1.1.0,>=0.28.0 in c:\\users\\praga\\anaconda3\\envs\\newenv\\lib\\site-packages (from spacy<3.8.0,>=3.7.2->en-core-web-sm==3.7.1) (1.0.7)\n",
      "Requirement already satisfied: cymem<2.1.0,>=2.0.2 in c:\\users\\praga\\anaconda3\\envs\\newenv\\lib\\site-packages (from spacy<3.8.0,>=3.7.2->en-core-web-sm==3.7.1) (2.0.6)\n",
      "Requirement already satisfied: preshed<3.1.0,>=3.0.2 in c:\\users\\praga\\anaconda3\\envs\\newenv\\lib\\site-packages (from spacy<3.8.0,>=3.7.2->en-core-web-sm==3.7.1) (3.0.6)\n",
      "Requirement already satisfied: thinc<8.3.0,>=8.1.8 in c:\\users\\praga\\anaconda3\\envs\\newenv\\lib\\site-packages (from spacy<3.8.0,>=3.7.2->en-core-web-sm==3.7.1) (8.2.2)\n",
      "Requirement already satisfied: wasabi<1.2.0,>=0.9.1 in c:\\users\\praga\\anaconda3\\envs\\newenv\\lib\\site-packages (from spacy<3.8.0,>=3.7.2->en-core-web-sm==3.7.1) (0.9.1)\n",
      "Requirement already satisfied: srsly<3.0.0,>=2.4.3 in c:\\users\\praga\\anaconda3\\envs\\newenv\\lib\\site-packages (from spacy<3.8.0,>=3.7.2->en-core-web-sm==3.7.1) (2.4.8)\n",
      "Requirement already satisfied: catalogue<2.1.0,>=2.0.6 in c:\\users\\praga\\anaconda3\\envs\\newenv\\lib\\site-packages (from spacy<3.8.0,>=3.7.2->en-core-web-sm==3.7.1) (2.0.10)\n",
      "Requirement already satisfied: weasel<0.4.0,>=0.1.0 in c:\\users\\praga\\anaconda3\\envs\\newenv\\lib\\site-packages (from spacy<3.8.0,>=3.7.2->en-core-web-sm==3.7.1) (0.3.4)\n",
      "Requirement already satisfied: typer<0.10.0,>=0.3.0 in c:\\users\\praga\\anaconda3\\envs\\newenv\\lib\\site-packages (from spacy<3.8.0,>=3.7.2->en-core-web-sm==3.7.1) (0.9.0)\n",
      "Requirement already satisfied: smart-open<7.0.0,>=5.2.1 in c:\\users\\praga\\anaconda3\\envs\\newenv\\lib\\site-packages (from spacy<3.8.0,>=3.7.2->en-core-web-sm==3.7.1) (5.2.1)\n",
      "Requirement already satisfied: tqdm<5.0.0,>=4.38.0 in c:\\users\\praga\\anaconda3\\envs\\newenv\\lib\\site-packages (from spacy<3.8.0,>=3.7.2->en-core-web-sm==3.7.1) (4.66.5)\n",
      "Requirement already satisfied: requests<3.0.0,>=2.13.0 in c:\\users\\praga\\anaconda3\\envs\\newenv\\lib\\site-packages (from spacy<3.8.0,>=3.7.2->en-core-web-sm==3.7.1) (2.32.3)\n",
      "Requirement already satisfied: pydantic!=1.8,!=1.8.1,<3.0.0,>=1.7.4 in c:\\users\\praga\\anaconda3\\envs\\newenv\\lib\\site-packages (from spacy<3.8.0,>=3.7.2->en-core-web-sm==3.7.1) (2.8.2)\n",
      "Requirement already satisfied: jinja2 in c:\\users\\praga\\anaconda3\\envs\\newenv\\lib\\site-packages (from spacy<3.8.0,>=3.7.2->en-core-web-sm==3.7.1) (3.1.4)\n",
      "Requirement already satisfied: setuptools in c:\\users\\praga\\anaconda3\\envs\\newenv\\lib\\site-packages (from spacy<3.8.0,>=3.7.2->en-core-web-sm==3.7.1) (75.1.0)\n",
      "Requirement already satisfied: packaging>=20.0 in c:\\users\\praga\\anaconda3\\envs\\newenv\\lib\\site-packages (from spacy<3.8.0,>=3.7.2->en-core-web-sm==3.7.1) (24.1)\n",
      "Requirement already satisfied: langcodes<4.0.0,>=3.2.0 in c:\\users\\praga\\anaconda3\\envs\\newenv\\lib\\site-packages (from spacy<3.8.0,>=3.7.2->en-core-web-sm==3.7.1) (3.3.0)\n",
      "Requirement already satisfied: numpy>=1.19.0 in c:\\users\\praga\\anaconda3\\envs\\newenv\\lib\\site-packages (from spacy<3.8.0,>=3.7.2->en-core-web-sm==3.7.1) (1.26.4)\n",
      "Requirement already satisfied: annotated-types>=0.4.0 in c:\\users\\praga\\anaconda3\\envs\\newenv\\lib\\site-packages (from pydantic!=1.8,!=1.8.1,<3.0.0,>=1.7.4->spacy<3.8.0,>=3.7.2->en-core-web-sm==3.7.1) (0.6.0)\n",
      "Requirement already satisfied: pydantic-core==2.20.1 in c:\\users\\praga\\anaconda3\\envs\\newenv\\lib\\site-packages (from pydantic!=1.8,!=1.8.1,<3.0.0,>=1.7.4->spacy<3.8.0,>=3.7.2->en-core-web-sm==3.7.1) (2.20.1)\n",
      "Requirement already satisfied: typing-extensions>=4.6.1 in c:\\users\\praga\\anaconda3\\envs\\newenv\\lib\\site-packages (from pydantic!=1.8,!=1.8.1,<3.0.0,>=1.7.4->spacy<3.8.0,>=3.7.2->en-core-web-sm==3.7.1) (4.11.0)\n",
      "Requirement already satisfied: charset-normalizer<4,>=2 in c:\\users\\praga\\anaconda3\\envs\\newenv\\lib\\site-packages (from requests<3.0.0,>=2.13.0->spacy<3.8.0,>=3.7.2->en-core-web-sm==3.7.1) (3.3.2)\n",
      "Requirement already satisfied: idna<4,>=2.5 in c:\\users\\praga\\anaconda3\\envs\\newenv\\lib\\site-packages (from requests<3.0.0,>=2.13.0->spacy<3.8.0,>=3.7.2->en-core-web-sm==3.7.1) (3.7)\n",
      "Requirement already satisfied: urllib3<3,>=1.21.1 in c:\\users\\praga\\anaconda3\\envs\\newenv\\lib\\site-packages (from requests<3.0.0,>=2.13.0->spacy<3.8.0,>=3.7.2->en-core-web-sm==3.7.1) (2.2.3)\n",
      "Requirement already satisfied: certifi>=2017.4.17 in c:\\users\\praga\\anaconda3\\envs\\newenv\\lib\\site-packages (from requests<3.0.0,>=2.13.0->spacy<3.8.0,>=3.7.2->en-core-web-sm==3.7.1) (2024.8.30)\n",
      "Requirement already satisfied: blis<0.8.0,>=0.7.8 in c:\\users\\praga\\anaconda3\\envs\\newenv\\lib\\site-packages (from thinc<8.3.0,>=8.1.8->spacy<3.8.0,>=3.7.2->en-core-web-sm==3.7.1) (0.7.11)\n",
      "Requirement already satisfied: confection<1.0.0,>=0.0.1 in c:\\users\\praga\\anaconda3\\envs\\newenv\\lib\\site-packages (from thinc<8.3.0,>=8.1.8->spacy<3.8.0,>=3.7.2->en-core-web-sm==3.7.1) (0.1.4)\n",
      "Requirement already satisfied: colorama in c:\\users\\praga\\anaconda3\\envs\\newenv\\lib\\site-packages (from tqdm<5.0.0,>=4.38.0->spacy<3.8.0,>=3.7.2->en-core-web-sm==3.7.1) (0.4.6)\n",
      "Requirement already satisfied: click<9.0.0,>=7.1.1 in c:\\users\\praga\\anaconda3\\envs\\newenv\\lib\\site-packages (from typer<0.10.0,>=0.3.0->spacy<3.8.0,>=3.7.2->en-core-web-sm==3.7.1) (8.1.7)\n",
      "Requirement already satisfied: cloudpathlib<0.17.0,>=0.7.0 in c:\\users\\praga\\anaconda3\\envs\\newenv\\lib\\site-packages (from weasel<0.4.0,>=0.1.0->spacy<3.8.0,>=3.7.2->en-core-web-sm==3.7.1) (0.16.0)\n",
      "Requirement already satisfied: MarkupSafe>=2.0 in c:\\users\\praga\\anaconda3\\envs\\newenv\\lib\\site-packages (from jinja2->spacy<3.8.0,>=3.7.2->en-core-web-sm==3.7.1) (2.1.3)\n",
      "[+] Download and installation successful\n",
      "You can now load the package via spacy.load('en_core_web_sm')\n"
     ]
    }
   ],
   "source": [
    "!spacy download en_core_web_sm"
   ]
  },
  {
   "cell_type": "code",
   "execution_count": 3,
   "id": "88818f6a-c3e4-459f-85e4-7becdae521f4",
   "metadata": {},
   "outputs": [],
   "source": [
    "import os\n",
    "from spacy import displacy\n",
    "import pandas as pd\n",
    "pd.options.mode.chained_assignment = None \n",
    "import plotly.express as px"
   ]
  },
  {
   "cell_type": "code",
   "execution_count": 9,
   "id": "4e0f6c37-393b-41cc-bd1b-e508dc70237f",
   "metadata": {},
   "outputs": [],
   "source": [
    "lyrics = []\n",
    "file_names = [] \n",
    "\n",
    "for _file_name in os.listdir('/Users/praga/Desktop/Collecting Data/CD_Assignment2/Data'):\n",
    "    if _file_name.endswith('.txt'):\n",
    "        lyrics.append(open('Data' + '/' + _file_name, 'r', encoding = 'utf-8').read())\n",
    "        file_names.append(_file_name) "
   ]
  },
  {
   "cell_type": "code",
   "execution_count": 10,
   "id": "bb7603a5-a862-4f5a-ad59-033b890df5ad",
   "metadata": {},
   "outputs": [],
   "source": [
    "d = {'Filename': file_names, 'Text': lyrics}"
   ]
  },
  {
   "cell_type": "code",
   "execution_count": 11,
   "id": "a4b700a7-3cd8-4994-9dae-4e2d071831ad",
   "metadata": {},
   "outputs": [],
   "source": [
    "song_df = pd.DataFrame(d)"
   ]
  },
  {
   "cell_type": "code",
   "execution_count": 12,
   "id": "4d32654c-1049-43a3-8ee3-3e9b2e37d47c",
   "metadata": {},
   "outputs": [
    {
     "data": {
      "text/html": [
       "<div>\n",
       "<style scoped>\n",
       "    .dataframe tbody tr th:only-of-type {\n",
       "        vertical-align: middle;\n",
       "    }\n",
       "\n",
       "    .dataframe tbody tr th {\n",
       "        vertical-align: top;\n",
       "    }\n",
       "\n",
       "    .dataframe thead th {\n",
       "        text-align: right;\n",
       "    }\n",
       "</style>\n",
       "<table border=\"1\" class=\"dataframe\">\n",
       "  <thead>\n",
       "    <tr style=\"text-align: right;\">\n",
       "      <th></th>\n",
       "      <th>Filename</th>\n",
       "      <th>Text</th>\n",
       "    </tr>\n",
       "  </thead>\n",
       "  <tbody>\n",
       "    <tr>\n",
       "      <th>0</th>\n",
       "      <td>american_nightmare.txt</td>\n",
       "      <td>Getting ready for bed at a regular time\\nIs on...</td>\n",
       "    </tr>\n",
       "    <tr>\n",
       "      <th>1</th>\n",
       "      <td>assault_n_batteries.txt</td>\n",
       "      <td>Breaking news alert\\nA deadly shootout at a lo...</td>\n",
       "    </tr>\n",
       "    <tr>\n",
       "      <th>2</th>\n",
       "      <td>enjoy_your_slay.txt</td>\n",
       "      <td>Going down, sir? (Indeed)\\nHere you are\\nPlagu...</td>\n",
       "    </tr>\n",
       "    <tr>\n",
       "      <th>3</th>\n",
       "      <td>funeral_derangements.txt</td>\n",
       "      <td>Slave to the plot, let them rot\\nOr bring them...</td>\n",
       "    </tr>\n",
       "    <tr>\n",
       "      <th>4</th>\n",
       "      <td>grave_mistake.txt</td>\n",
       "      <td>Here lies a lifeless bride and groom\\nTill dea...</td>\n",
       "    </tr>\n",
       "  </tbody>\n",
       "</table>\n",
       "</div>"
      ],
      "text/plain": [
       "                   Filename                                               Text\n",
       "0    american_nightmare.txt  Getting ready for bed at a regular time\\nIs on...\n",
       "1   assault_n_batteries.txt  Breaking news alert\\nA deadly shootout at a lo...\n",
       "2       enjoy_your_slay.txt  Going down, sir? (Indeed)\\nHere you are\\nPlagu...\n",
       "3  funeral_derangements.txt  Slave to the plot, let them rot\\nOr bring them...\n",
       "4         grave_mistake.txt  Here lies a lifeless bride and groom\\nTill dea..."
      ]
     },
     "execution_count": 12,
     "metadata": {},
     "output_type": "execute_result"
    }
   ],
   "source": [
    "song_df.head()"
   ]
  },
  {
   "cell_type": "code",
   "execution_count": 14,
   "id": "ed64fb4c-6139-4b8e-98b6-cd8a055731c8",
   "metadata": {},
   "outputs": [
    {
     "data": {
      "text/html": [
       "<div>\n",
       "<style scoped>\n",
       "    .dataframe tbody tr th:only-of-type {\n",
       "        vertical-align: middle;\n",
       "    }\n",
       "\n",
       "    .dataframe tbody tr th {\n",
       "        vertical-align: top;\n",
       "    }\n",
       "\n",
       "    .dataframe thead th {\n",
       "        text-align: right;\n",
       "    }\n",
       "</style>\n",
       "<table border=\"1\" class=\"dataframe\">\n",
       "  <thead>\n",
       "    <tr style=\"text-align: right;\">\n",
       "      <th></th>\n",
       "      <th>Filename</th>\n",
       "      <th>Text</th>\n",
       "    </tr>\n",
       "  </thead>\n",
       "  <tbody>\n",
       "    <tr>\n",
       "      <th>0</th>\n",
       "      <td>american_nightmare.txt</td>\n",
       "      <td>Getting ready for bed at a regular time Is one...</td>\n",
       "    </tr>\n",
       "    <tr>\n",
       "      <th>1</th>\n",
       "      <td>assault_n_batteries.txt</td>\n",
       "      <td>Breaking news alert A deadly shootout at a loc...</td>\n",
       "    </tr>\n",
       "    <tr>\n",
       "      <th>2</th>\n",
       "      <td>enjoy_your_slay.txt</td>\n",
       "      <td>Going down, sir? (Indeed) Here you are Plagued...</td>\n",
       "    </tr>\n",
       "    <tr>\n",
       "      <th>3</th>\n",
       "      <td>funeral_derangements.txt</td>\n",
       "      <td>Slave to the plot, let them rot Or bring them ...</td>\n",
       "    </tr>\n",
       "    <tr>\n",
       "      <th>4</th>\n",
       "      <td>grave_mistake.txt</td>\n",
       "      <td>Here lies a lifeless bride and groom Till deat...</td>\n",
       "    </tr>\n",
       "  </tbody>\n",
       "</table>\n",
       "</div>"
      ],
      "text/plain": [
       "                   Filename                                               Text\n",
       "0    american_nightmare.txt  Getting ready for bed at a regular time Is one...\n",
       "1   assault_n_batteries.txt  Breaking news alert A deadly shootout at a loc...\n",
       "2       enjoy_your_slay.txt  Going down, sir? (Indeed) Here you are Plagued...\n",
       "3  funeral_derangements.txt  Slave to the plot, let them rot Or bring them ...\n",
       "4         grave_mistake.txt  Here lies a lifeless bride and groom Till deat..."
      ]
     },
     "execution_count": 14,
     "metadata": {},
     "output_type": "execute_result"
    }
   ],
   "source": [
    "song_df['Text'] = song_df['Text'].str.replace('\\n', ' ', regex = True).str.strip()\n",
    "song_df.head()"
   ]
  },
  {
   "cell_type": "code",
   "execution_count": 19,
   "id": "12c15152-91ee-4b16-bd65-f4d9187c7f77",
   "metadata": {},
   "outputs": [],
   "source": [
    "metadata_df = pd.read_csv('metadata.csv')"
   ]
  },
  {
   "cell_type": "code",
   "execution_count": 20,
   "id": "1016f156-3475-4df3-a77f-da0b7fa13a3d",
   "metadata": {},
   "outputs": [
    {
     "data": {
      "text/html": [
       "<div>\n",
       "<style scoped>\n",
       "    .dataframe tbody tr th:only-of-type {\n",
       "        vertical-align: middle;\n",
       "    }\n",
       "\n",
       "    .dataframe tbody tr th {\n",
       "        vertical-align: top;\n",
       "    }\n",
       "\n",
       "    .dataframe thead th {\n",
       "        text-align: right;\n",
       "    }\n",
       "</style>\n",
       "<table border=\"1\" class=\"dataframe\">\n",
       "  <thead>\n",
       "    <tr style=\"text-align: right;\">\n",
       "      <th></th>\n",
       "      <th>Filename</th>\n",
       "      <th>Title</th>\n",
       "      <th>Track Listing</th>\n",
       "      <th>Song Length</th>\n",
       "      <th>Release Date</th>\n",
       "      <th>Album</th>\n",
       "      <th>Horror Reference</th>\n",
       "      <th>Lyric Source</th>\n",
       "    </tr>\n",
       "  </thead>\n",
       "  <tbody>\n",
       "    <tr>\n",
       "      <th>0</th>\n",
       "      <td>american_nightmare.txt</td>\n",
       "      <td>The American Nightmare</td>\n",
       "      <td>1</td>\n",
       "      <td>4:11</td>\n",
       "      <td>20-06-2018</td>\n",
       "      <td>The Silver Scream</td>\n",
       "      <td>A Nightmare on Elm Street</td>\n",
       "      <td>LyricFind</td>\n",
       "    </tr>\n",
       "    <tr>\n",
       "      <th>1</th>\n",
       "      <td>thank_god_its_friday.txt</td>\n",
       "      <td>Thank God It's Friday</td>\n",
       "      <td>2</td>\n",
       "      <td>4:24</td>\n",
       "      <td>13-07-2018</td>\n",
       "      <td>The Silver Scream</td>\n",
       "      <td>Friday the 13th</td>\n",
       "      <td>LyricFind</td>\n",
       "    </tr>\n",
       "    <tr>\n",
       "      <th>2</th>\n",
       "      <td>enjoy_your_slay.txt</td>\n",
       "      <td>Enjoy Your Slay (featuring Sam Kubrick of Shie...</td>\n",
       "      <td>8</td>\n",
       "      <td>4:16</td>\n",
       "      <td>26-05-2017</td>\n",
       "      <td>The Silver Scream</td>\n",
       "      <td>The Shining</td>\n",
       "      <td>musixmatch</td>\n",
       "    </tr>\n",
       "    <tr>\n",
       "      <th>3</th>\n",
       "      <td>grave_mistake.txt</td>\n",
       "      <td>A Grave Mistake</td>\n",
       "      <td>6</td>\n",
       "      <td>3:04</td>\n",
       "      <td>14-09-2018</td>\n",
       "      <td>The Silver Scream</td>\n",
       "      <td>The Crow</td>\n",
       "      <td>musixmatch</td>\n",
       "    </tr>\n",
       "    <tr>\n",
       "      <th>4</th>\n",
       "      <td>stabbing_in_the_dark.txt</td>\n",
       "      <td>Stabbing in the Dark</td>\n",
       "      <td>3</td>\n",
       "      <td>4:36</td>\n",
       "      <td>19-10-2018</td>\n",
       "      <td>The Silver Scream</td>\n",
       "      <td>Halloween</td>\n",
       "      <td>musixmatch</td>\n",
       "    </tr>\n",
       "  </tbody>\n",
       "</table>\n",
       "</div>"
      ],
      "text/plain": [
       "                   Filename  \\\n",
       "0    american_nightmare.txt   \n",
       "1  thank_god_its_friday.txt   \n",
       "2       enjoy_your_slay.txt   \n",
       "3         grave_mistake.txt   \n",
       "4  stabbing_in_the_dark.txt   \n",
       "\n",
       "                                               Title  Track Listing  \\\n",
       "0                             The American Nightmare              1   \n",
       "1                              Thank God It's Friday              2   \n",
       "2  Enjoy Your Slay (featuring Sam Kubrick of Shie...              8   \n",
       "3                                    A Grave Mistake              6   \n",
       "4                               Stabbing in the Dark              3   \n",
       "\n",
       "  Song Length Release Date             Album            Horror Reference  \\\n",
       "0        4:11   20-06-2018  The Silver Scream  A Nightmare on Elm Street   \n",
       "1        4:24   13-07-2018  The Silver Scream            Friday the 13th   \n",
       "2        4:16   26-05-2017  The Silver Scream                The Shining   \n",
       "3        3:04   14-09-2018  The Silver Scream                   The Crow   \n",
       "4        4:36   19-10-2018  The Silver Scream                  Halloween   \n",
       "\n",
       "  Lyric Source  \n",
       "0    LyricFind  \n",
       "1    LyricFind  \n",
       "2   musixmatch  \n",
       "3   musixmatch  \n",
       "4   musixmatch  "
      ]
     },
     "execution_count": 20,
     "metadata": {},
     "output_type": "execute_result"
    }
   ],
   "source": [
    "metadata_df.head()"
   ]
  },
  {
   "cell_type": "code",
   "execution_count": 32,
   "id": "fd8f3e5a-b337-4a62-8ed1-556e1f174b2e",
   "metadata": {},
   "outputs": [],
   "source": [
    "song_df['Filename'] = song_df['Filename'].str.replace('.txt', '', regex=True)\n",
    "#since title in metadata is not the same as filename, take out .txt in metadata df as well\n",
    "metadata_df['Filename'] = metadata_df['Filename'].str.replace('.txt', '', regex=True)"
   ]
  },
  {
   "cell_type": "code",
   "execution_count": 36,
   "id": "96becb81-806f-4813-89d0-bd2a632e3f18",
   "metadata": {},
   "outputs": [],
   "source": [
    "playlist_df = metadata_df.merge(song_df, on = 'Filename')"
   ]
  },
  {
   "cell_type": "code",
   "execution_count": 37,
   "id": "76e63b94-d310-498a-9f19-09df8f9671aa",
   "metadata": {},
   "outputs": [
    {
     "data": {
      "text/html": [
       "<div>\n",
       "<style scoped>\n",
       "    .dataframe tbody tr th:only-of-type {\n",
       "        vertical-align: middle;\n",
       "    }\n",
       "\n",
       "    .dataframe tbody tr th {\n",
       "        vertical-align: top;\n",
       "    }\n",
       "\n",
       "    .dataframe thead th {\n",
       "        text-align: right;\n",
       "    }\n",
       "</style>\n",
       "<table border=\"1\" class=\"dataframe\">\n",
       "  <thead>\n",
       "    <tr style=\"text-align: right;\">\n",
       "      <th></th>\n",
       "      <th>Filename</th>\n",
       "      <th>Title</th>\n",
       "      <th>Track Listing</th>\n",
       "      <th>Song Length</th>\n",
       "      <th>Release Date</th>\n",
       "      <th>Album</th>\n",
       "      <th>Horror Reference</th>\n",
       "      <th>Lyric Source</th>\n",
       "      <th>Text</th>\n",
       "    </tr>\n",
       "  </thead>\n",
       "  <tbody>\n",
       "    <tr>\n",
       "      <th>0</th>\n",
       "      <td>american_nightmare</td>\n",
       "      <td>The American Nightmare</td>\n",
       "      <td>1</td>\n",
       "      <td>4:11</td>\n",
       "      <td>20-06-2018</td>\n",
       "      <td>The Silver Scream</td>\n",
       "      <td>A Nightmare on Elm Street</td>\n",
       "      <td>LyricFind</td>\n",
       "      <td>Getting ready for bed at a regular time Is one...</td>\n",
       "    </tr>\n",
       "    <tr>\n",
       "      <th>1</th>\n",
       "      <td>thank_god_its_friday</td>\n",
       "      <td>Thank God It's Friday</td>\n",
       "      <td>2</td>\n",
       "      <td>4:24</td>\n",
       "      <td>13-07-2018</td>\n",
       "      <td>The Silver Scream</td>\n",
       "      <td>Friday the 13th</td>\n",
       "      <td>LyricFind</td>\n",
       "      <td>He drowned in all our sins He drowned in our m...</td>\n",
       "    </tr>\n",
       "    <tr>\n",
       "      <th>2</th>\n",
       "      <td>enjoy_your_slay</td>\n",
       "      <td>Enjoy Your Slay (featuring Sam Kubrick of Shie...</td>\n",
       "      <td>8</td>\n",
       "      <td>4:16</td>\n",
       "      <td>26-05-2017</td>\n",
       "      <td>The Silver Scream</td>\n",
       "      <td>The Shining</td>\n",
       "      <td>musixmatch</td>\n",
       "      <td>Going down, sir? (Indeed) Here you are Plagued...</td>\n",
       "    </tr>\n",
       "    <tr>\n",
       "      <th>3</th>\n",
       "      <td>grave_mistake</td>\n",
       "      <td>A Grave Mistake</td>\n",
       "      <td>6</td>\n",
       "      <td>3:04</td>\n",
       "      <td>14-09-2018</td>\n",
       "      <td>The Silver Scream</td>\n",
       "      <td>The Crow</td>\n",
       "      <td>musixmatch</td>\n",
       "      <td>Here lies a lifeless bride and groom Till deat...</td>\n",
       "    </tr>\n",
       "    <tr>\n",
       "      <th>4</th>\n",
       "      <td>stabbing_in_the_dark</td>\n",
       "      <td>Stabbing in the Dark</td>\n",
       "      <td>3</td>\n",
       "      <td>4:36</td>\n",
       "      <td>19-10-2018</td>\n",
       "      <td>The Silver Scream</td>\n",
       "      <td>Halloween</td>\n",
       "      <td>musixmatch</td>\n",
       "      <td>In calculated silence Captivated by the violen...</td>\n",
       "    </tr>\n",
       "  </tbody>\n",
       "</table>\n",
       "</div>"
      ],
      "text/plain": [
       "               Filename                                              Title  \\\n",
       "0    american_nightmare                             The American Nightmare   \n",
       "1  thank_god_its_friday                              Thank God It's Friday   \n",
       "2       enjoy_your_slay  Enjoy Your Slay (featuring Sam Kubrick of Shie...   \n",
       "3         grave_mistake                                    A Grave Mistake   \n",
       "4  stabbing_in_the_dark                               Stabbing in the Dark   \n",
       "\n",
       "   Track Listing Song Length Release Date             Album   \\\n",
       "0              1        4:11   20-06-2018  The Silver Scream   \n",
       "1              2        4:24   13-07-2018  The Silver Scream   \n",
       "2              8        4:16   26-05-2017  The Silver Scream   \n",
       "3              6        3:04   14-09-2018  The Silver Scream   \n",
       "4              3        4:36   19-10-2018  The Silver Scream   \n",
       "\n",
       "            Horror Reference Lyric Source  \\\n",
       "0  A Nightmare on Elm Street    LyricFind   \n",
       "1            Friday the 13th    LyricFind   \n",
       "2                The Shining   musixmatch   \n",
       "3                   The Crow   musixmatch   \n",
       "4                  Halloween   musixmatch   \n",
       "\n",
       "                                                Text  \n",
       "0  Getting ready for bed at a regular time Is one...  \n",
       "1  He drowned in all our sins He drowned in our m...  \n",
       "2  Going down, sir? (Indeed) Here you are Plagued...  \n",
       "3  Here lies a lifeless bride and groom Till deat...  \n",
       "4  In calculated silence Captivated by the violen...  "
      ]
     },
     "execution_count": 37,
     "metadata": {},
     "output_type": "execute_result"
    }
   ],
   "source": [
    "playlist_df.head()"
   ]
  },
  {
   "cell_type": "markdown",
   "id": "8505d936-14e8-4352-b197-74ffaeed2061",
   "metadata": {},
   "source": [
    "## Text Enrichment with spaCy"
   ]
  },
  {
   "cell_type": "code",
   "execution_count": 38,
   "id": "d6538207-981d-433c-87a6-fb8597a8c685",
   "metadata": {},
   "outputs": [
    {
     "name": "stdout",
     "output_type": "stream",
     "text": [
      "['tok2vec', 'tagger', 'parser', 'attribute_ruler', 'lemmatizer', 'ner']\n"
     ]
    }
   ],
   "source": [
    "nlp = spacy.load('en_core_web_sm')\n",
    "print(nlp.pipe_names)"
   ]
  },
  {
   "cell_type": "code",
   "execution_count": 40,
   "id": "2abb042c-30c9-4b49-ba73-b59f077d77b1",
   "metadata": {},
   "outputs": [],
   "source": [
    "def process_lyrics(text):\n",
    "    return nlp(text)"
   ]
  },
  {
   "cell_type": "code",
   "execution_count": 41,
   "id": "920ef597-6c63-4067-9765-3c5fdbbf6927",
   "metadata": {},
   "outputs": [],
   "source": [
    "playlist_df['Doc'] = playlist_df['Text'].apply(process_lyrics)"
   ]
  },
  {
   "cell_type": "markdown",
   "id": "eadc3dda-d32e-45ea-b400-50f74b3e23df",
   "metadata": {},
   "source": [
    "## Text Reduction"
   ]
  },
  {
   "cell_type": "markdown",
   "id": "d88e408b-02d5-440c-949f-bcb472e77a71",
   "metadata": {},
   "source": [
    "### Tokenization"
   ]
  },
  {
   "cell_type": "code",
   "execution_count": 42,
   "id": "a60b4df3-f8fe-4f50-955a-b19469737629",
   "metadata": {},
   "outputs": [],
   "source": [
    "def get_token(doc):\n",
    "    return[(token.text) for token in doc]"
   ]
  },
  {
   "cell_type": "code",
   "execution_count": 43,
   "id": "24a6462d-86b5-4f3d-bcbb-c1fbd042b81d",
   "metadata": {},
   "outputs": [],
   "source": [
    "playlist_df['Tokens'] = playlist_df['Doc'].apply(get_token)"
   ]
  },
  {
   "cell_type": "code",
   "execution_count": 44,
   "id": "9af962c2-2563-461c-ba09-5d4e431573f3",
   "metadata": {},
   "outputs": [
    {
     "data": {
      "text/html": [
       "<div>\n",
       "<style scoped>\n",
       "    .dataframe tbody tr th:only-of-type {\n",
       "        vertical-align: middle;\n",
       "    }\n",
       "\n",
       "    .dataframe tbody tr th {\n",
       "        vertical-align: top;\n",
       "    }\n",
       "\n",
       "    .dataframe thead th {\n",
       "        text-align: right;\n",
       "    }\n",
       "</style>\n",
       "<table border=\"1\" class=\"dataframe\">\n",
       "  <thead>\n",
       "    <tr style=\"text-align: right;\">\n",
       "      <th></th>\n",
       "      <th>Text</th>\n",
       "      <th>Tokens</th>\n",
       "    </tr>\n",
       "  </thead>\n",
       "  <tbody>\n",
       "    <tr>\n",
       "      <th>0</th>\n",
       "      <td>Getting ready for bed at a regular time Is one...</td>\n",
       "      <td>[Getting, ready, for, bed, at, a, regular, tim...</td>\n",
       "    </tr>\n",
       "    <tr>\n",
       "      <th>1</th>\n",
       "      <td>He drowned in all our sins He drowned in our m...</td>\n",
       "      <td>[He, drowned, in, all, our, sins, He, drowned,...</td>\n",
       "    </tr>\n",
       "    <tr>\n",
       "      <th>2</th>\n",
       "      <td>Going down, sir? (Indeed) Here you are Plagued...</td>\n",
       "      <td>[Going, down, ,, sir, ?, (, Indeed, ), Here, y...</td>\n",
       "    </tr>\n",
       "    <tr>\n",
       "      <th>3</th>\n",
       "      <td>Here lies a lifeless bride and groom Till deat...</td>\n",
       "      <td>[Here, lies, a, lifeless, bride, and, groom, T...</td>\n",
       "    </tr>\n",
       "    <tr>\n",
       "      <th>4</th>\n",
       "      <td>In calculated silence Captivated by the violen...</td>\n",
       "      <td>[In, calculated, silence, Captivated, by, the,...</td>\n",
       "    </tr>\n",
       "  </tbody>\n",
       "</table>\n",
       "</div>"
      ],
      "text/plain": [
       "                                                Text  \\\n",
       "0  Getting ready for bed at a regular time Is one...   \n",
       "1  He drowned in all our sins He drowned in our m...   \n",
       "2  Going down, sir? (Indeed) Here you are Plagued...   \n",
       "3  Here lies a lifeless bride and groom Till deat...   \n",
       "4  In calculated silence Captivated by the violen...   \n",
       "\n",
       "                                              Tokens  \n",
       "0  [Getting, ready, for, bed, at, a, regular, tim...  \n",
       "1  [He, drowned, in, all, our, sins, He, drowned,...  \n",
       "2  [Going, down, ,, sir, ?, (, Indeed, ), Here, y...  \n",
       "3  [Here, lies, a, lifeless, bride, and, groom, T...  \n",
       "4  [In, calculated, silence, Captivated, by, the,...  "
      ]
     },
     "execution_count": 44,
     "metadata": {},
     "output_type": "execute_result"
    }
   ],
   "source": [
    "tokens = playlist_df[['Text', 'Tokens']].copy()\n",
    "tokens.head()"
   ]
  },
  {
   "cell_type": "markdown",
   "id": "20d42f45-e43c-44dd-ab85-97cec4e733ab",
   "metadata": {},
   "source": [
    "### Lemmatization"
   ]
  },
  {
   "cell_type": "code",
   "execution_count": 45,
   "id": "0519583a-1e02-4d54-8bab-6d6715489f02",
   "metadata": {},
   "outputs": [],
   "source": [
    "def get_lemma(doc):\n",
    "    return[(token.lemma_) for token in doc] "
   ]
  },
  {
   "cell_type": "code",
   "execution_count": 46,
   "id": "468707ae-b209-4945-a072-2bb2a2952b60",
   "metadata": {},
   "outputs": [],
   "source": [
    "playlist_df['Lemmas'] = playlist_df['Doc'].apply(get_lemma)"
   ]
  },
  {
   "cell_type": "markdown",
   "id": "b3a54de5-401d-4ab5-8652-5944239fc397",
   "metadata": {},
   "source": [
    "## Text Annotation"
   ]
  },
  {
   "cell_type": "markdown",
   "id": "2e7a9a56-c9c8-438a-b3dc-f7f24d1353c5",
   "metadata": {},
   "source": [
    "### Parts of Speech (POS) Tagging"
   ]
  },
  {
   "cell_type": "code",
   "execution_count": 47,
   "id": "6a975954-ac3a-437b-b3c6-eebdba156812",
   "metadata": {},
   "outputs": [],
   "source": [
    "def get_pos(doc): \n",
    "    return[(token.pos_, token.tag_) for token in doc]"
   ]
  },
  {
   "cell_type": "code",
   "execution_count": 48,
   "id": "51323c7a-77b3-402e-b1df-872d498e0485",
   "metadata": {},
   "outputs": [],
   "source": [
    "playlist_df['POS'] = playlist_df['Doc'].apply(get_pos) "
   ]
  },
  {
   "cell_type": "code",
   "execution_count": 49,
   "id": "9139d19f-8f4f-424a-a136-4a704ce3e903",
   "metadata": {},
   "outputs": [],
   "source": [
    "def extract_proper_nouns(doc):\n",
    "    return[token.text for token in doc if token.pos_ == 'PROPN'] "
   ]
  },
  {
   "cell_type": "code",
   "execution_count": 50,
   "id": "c7352dc8-c978-46a1-890f-f09f3d250634",
   "metadata": {},
   "outputs": [],
   "source": [
    "playlist_df['Proper_Nouns'] = playlist_df['Doc'].apply(extract_proper_nouns) "
   ]
  },
  {
   "cell_type": "code",
   "execution_count": 58,
   "id": "f8639fdd-03e6-492c-9b52-9836270f1fd1",
   "metadata": {},
   "outputs": [
    {
     "data": {
      "text/plain": [
       "[['David', 'Dreams', 'Craven', 'Sweet', 'Wicked', 'morgue', 'Five', 'Seven'],\n",
       " ['Fall',\n",
       "  'Haddonfield',\n",
       "  'Knife',\n",
       "  'Day',\n",
       "  'Knife',\n",
       "  'Fall',\n",
       "  'Scream',\n",
       "  'Halloween',\n",
       "  'Fall',\n",
       "  'Orange',\n",
       "  'Grove',\n",
       "  'Ave',\n",
       "  'Suspect',\n",
       "  'Michael',\n",
       "  'Myers',\n",
       "  'Michael',\n",
       "  'Fall']]"
      ]
     },
     "execution_count": 58,
     "metadata": {},
     "output_type": "execute_result"
    }
   ],
   "source": [
    "#testing progress\n",
    "list(playlist_df.loc[[0, 4], 'Proper_Nouns'])"
   ]
  },
  {
   "cell_type": "code",
   "execution_count": 59,
   "id": "6b57d731-7f36-45fd-8a39-4d3823f69e2b",
   "metadata": {},
   "outputs": [],
   "source": [
    "#saving dataframe as csv file\n",
    "playlist_df.to_csv('INK_silverscream_singles_with_spaCy_tags.csv') "
   ]
  }
 ],
 "metadata": {
  "kernelspec": {
   "display_name": "Python 3 (ipykernel)",
   "language": "python",
   "name": "python3"
  },
  "language_info": {
   "codemirror_mode": {
    "name": "ipython",
    "version": 3
   },
   "file_extension": ".py",
   "mimetype": "text/x-python",
   "name": "python",
   "nbconvert_exporter": "python",
   "pygments_lexer": "ipython3",
   "version": "3.12.7"
  }
 },
 "nbformat": 4,
 "nbformat_minor": 5
}
